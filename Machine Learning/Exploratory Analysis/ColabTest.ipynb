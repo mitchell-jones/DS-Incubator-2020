{
  "nbformat": 4,
  "nbformat_minor": 0,
  "metadata": {
    "colab": {
      "name": "ColabTest.ipynb",
      "provenance": [],
      "toc_visible": true,
      "include_colab_link": true
    },
    "kernelspec": {
      "name": "pycharm-25b6d9c7",
      "language": "python",
      "display_name": "PyCharm (DS-Incubator-2020)"
    }
  },
  "cells": [
    {
      "cell_type": "markdown",
      "metadata": {
        "id": "view-in-github",
        "colab_type": "text"
      },
      "source": [
        "<a href=\"https://colab.research.google.com/github/mitchell-jones/DS-Incubator-2020/blob/Kyle-%2F-Test/Machine%20Learning/Exploratory%20Analysis/ColabTest.ipynb\" target=\"_parent\"><img src=\"https://colab.research.google.com/assets/colab-badge.svg\" alt=\"Open In Colab\"/></a>"
      ]
    },
    {
      "cell_type": "markdown",
      "metadata": {
        "id": "HXqP2qDrOL_w",
        "colab_type": "text"
      },
      "source": [
        "# Beginning Exploratory Analysis - File Handling"
      ]
    },
    {
      "cell_type": "code",
      "metadata": {
        "id": "3a7wVNyk0cVp",
        "colab_type": "code",
        "colab": {}
      },
      "source": [
        "# Import Packages\n",
        "# Handling Data\n",
        "import pandas as pd\n",
        "# Visualization\n",
        "import seaborn as sns\n",
        "import matplotlib.pyplot as plt\n",
        "import matplotlib.dates as mdates\n",
        "import missingno\n",
        "from datetime import datetime"
      ],
      "execution_count": 67,
      "outputs": []
    },
    {
      "cell_type": "code",
      "metadata": {
        "id": "gWKyqrlm0rPd",
        "colab_type": "code",
        "colab": {}
      },
      "source": [
        "# Read movie data to dataframe\n",
        "movies = pd.read_csv('movies.csv')"
      ],
      "execution_count": 68,
      "outputs": []
    },
    {
      "cell_type": "markdown",
      "metadata": {
        "id": "Ed_9C3i-OTRj",
        "colab_type": "text"
      },
      "source": [
        "# Initial Statistics"
      ]
    },
    {
      "cell_type": "code",
      "metadata": {
        "id": "mF5NQhW300r_",
        "colab_type": "code",
        "colab": {
          "base_uri": "https://localhost:8080/",
          "height": 717
        },
        "outputId": "b4585889-54aa-40b5-e2ad-62bde2be90fa"
      },
      "source": [
        "movies.head()"
      ],
      "execution_count": 69,
      "outputs": [
        {
          "output_type": "execute_result",
          "data": {
            "text/html": [
              "<div>\n",
              "<style scoped>\n",
              "    .dataframe tbody tr th:only-of-type {\n",
              "        vertical-align: middle;\n",
              "    }\n",
              "\n",
              "    .dataframe tbody tr th {\n",
              "        vertical-align: top;\n",
              "    }\n",
              "\n",
              "    .dataframe thead th {\n",
              "        text-align: right;\n",
              "    }\n",
              "</style>\n",
              "<table border=\"1\" class=\"dataframe\">\n",
              "  <thead>\n",
              "    <tr style=\"text-align: right;\">\n",
              "      <th></th>\n",
              "      <th>id</th>\n",
              "      <th>title</th>\n",
              "      <th>tagline</th>\n",
              "      <th>description</th>\n",
              "      <th>genres</th>\n",
              "      <th>keywords</th>\n",
              "      <th>date</th>\n",
              "      <th>collection</th>\n",
              "      <th>runtime</th>\n",
              "      <th>revenue</th>\n",
              "      <th>budget</th>\n",
              "      <th>director</th>\n",
              "      <th>cast</th>\n",
              "      <th>production_companies</th>\n",
              "      <th>production_countries</th>\n",
              "      <th>popularity</th>\n",
              "      <th>average_vote</th>\n",
              "      <th>num_votes</th>\n",
              "      <th>language</th>\n",
              "      <th>imdb_id</th>\n",
              "      <th>poster_url</th>\n",
              "    </tr>\n",
              "  </thead>\n",
              "  <tbody>\n",
              "    <tr>\n",
              "      <th>0</th>\n",
              "      <td>862</td>\n",
              "      <td>Toy Story</td>\n",
              "      <td>NaN</td>\n",
              "      <td>Led by Woody, Andy's toys live happily in his ...</td>\n",
              "      <td>animation, comedy, family</td>\n",
              "      <td>jealousy, toy, boy, friendship, friends, rival...</td>\n",
              "      <td>1995-10-30</td>\n",
              "      <td>Toy Story Collection</td>\n",
              "      <td>81.0</td>\n",
              "      <td>373554033.0</td>\n",
              "      <td>30000000</td>\n",
              "      <td>John Lasseter</td>\n",
              "      <td>Tom Hanks, Tim Allen, Don Rickles, Jim Varney,...</td>\n",
              "      <td>Pixar Animation Studios</td>\n",
              "      <td>United States of America</td>\n",
              "      <td>21.946943</td>\n",
              "      <td>7.7</td>\n",
              "      <td>5415.0</td>\n",
              "      <td>en</td>\n",
              "      <td>tt0114709</td>\n",
              "      <td>/rhIRbceoE9lR4veEXuwCC2wARtG.jpg</td>\n",
              "    </tr>\n",
              "    <tr>\n",
              "      <th>1</th>\n",
              "      <td>8844</td>\n",
              "      <td>Jumanji</td>\n",
              "      <td>Roll the dice and unleash the excitement!</td>\n",
              "      <td>When siblings Judy and Peter discover an encha...</td>\n",
              "      <td>adventure, fantasy, family</td>\n",
              "      <td>board game, disappearance, based on children's...</td>\n",
              "      <td>1995-12-15</td>\n",
              "      <td>NaN</td>\n",
              "      <td>104.0</td>\n",
              "      <td>262797249.0</td>\n",
              "      <td>65000000</td>\n",
              "      <td>Joe Johnston</td>\n",
              "      <td>Robin Williams, Jonathan Hyde, Kirsten Dunst, ...</td>\n",
              "      <td>TriStar Pictures, Teitler Film, Interscope Com...</td>\n",
              "      <td>United States of America</td>\n",
              "      <td>17.015539</td>\n",
              "      <td>6.9</td>\n",
              "      <td>2413.0</td>\n",
              "      <td>en</td>\n",
              "      <td>tt0113497</td>\n",
              "      <td>/vzmL6fP7aPKNKPRTFnZmiUfciyV.jpg</td>\n",
              "    </tr>\n",
              "    <tr>\n",
              "      <th>2</th>\n",
              "      <td>15602</td>\n",
              "      <td>Grumpier Old Men</td>\n",
              "      <td>Still Yelling. Still Fighting. Still Ready for...</td>\n",
              "      <td>A family wedding reignites the ancient feud be...</td>\n",
              "      <td>romance, comedy</td>\n",
              "      <td>fishing, best friend, duringcreditsstinger, ol...</td>\n",
              "      <td>1995-12-22</td>\n",
              "      <td>Grumpy Old Men Collection</td>\n",
              "      <td>101.0</td>\n",
              "      <td>0.0</td>\n",
              "      <td>0</td>\n",
              "      <td>Howard Deutch</td>\n",
              "      <td>Walter Matthau, Jack Lemmon, Ann-Margret, Soph...</td>\n",
              "      <td>Warner Bros., Lancaster Gate</td>\n",
              "      <td>United States of America</td>\n",
              "      <td>11.712900</td>\n",
              "      <td>6.5</td>\n",
              "      <td>92.0</td>\n",
              "      <td>en</td>\n",
              "      <td>tt0113228</td>\n",
              "      <td>/6ksm1sjKMFLbO7UY2i6G1ju9SML.jpg</td>\n",
              "    </tr>\n",
              "    <tr>\n",
              "      <th>3</th>\n",
              "      <td>31357</td>\n",
              "      <td>Waiting to Exhale</td>\n",
              "      <td>Friends are the people who let you be yourself...</td>\n",
              "      <td>Cheated on, mistreated and stepped on, the wom...</td>\n",
              "      <td>comedy, drama, romance</td>\n",
              "      <td>based on novel, interracial relationship, sing...</td>\n",
              "      <td>1995-12-22</td>\n",
              "      <td>NaN</td>\n",
              "      <td>127.0</td>\n",
              "      <td>81452156.0</td>\n",
              "      <td>16000000</td>\n",
              "      <td>Forest Whitaker</td>\n",
              "      <td>Whitney Houston, Angela Bassett, Loretta Devin...</td>\n",
              "      <td>Twentieth Century Fox Film Corporation</td>\n",
              "      <td>United States of America</td>\n",
              "      <td>3.859495</td>\n",
              "      <td>6.1</td>\n",
              "      <td>34.0</td>\n",
              "      <td>en</td>\n",
              "      <td>tt0114885</td>\n",
              "      <td>/16XOMpEaLWkrcPqSQqhTmeJuqQl.jpg</td>\n",
              "    </tr>\n",
              "    <tr>\n",
              "      <th>4</th>\n",
              "      <td>11862</td>\n",
              "      <td>Father of the Bride Part II</td>\n",
              "      <td>Just When His World Is Back To Normal... He's ...</td>\n",
              "      <td>Just when George Banks has recovered from his ...</td>\n",
              "      <td>comedy</td>\n",
              "      <td>baby, midlife crisis, confidence, aging, daugh...</td>\n",
              "      <td>1995-02-10</td>\n",
              "      <td>Father of the Bride Collection</td>\n",
              "      <td>106.0</td>\n",
              "      <td>76578911.0</td>\n",
              "      <td>0</td>\n",
              "      <td>Charles Shyer</td>\n",
              "      <td>Steve Martin, Diane Keaton, Martin Short, Kimb...</td>\n",
              "      <td>Sandollar Productions, Touchstone Pictures</td>\n",
              "      <td>United States of America</td>\n",
              "      <td>8.387519</td>\n",
              "      <td>5.7</td>\n",
              "      <td>173.0</td>\n",
              "      <td>en</td>\n",
              "      <td>tt0113041</td>\n",
              "      <td>/e64sOI48hQXyru7naBFyssKFxVd.jpg</td>\n",
              "    </tr>\n",
              "  </tbody>\n",
              "</table>\n",
              "</div>"
            ],
            "text/plain": [
              "      id  ...                        poster_url\n",
              "0    862  ...  /rhIRbceoE9lR4veEXuwCC2wARtG.jpg\n",
              "1   8844  ...  /vzmL6fP7aPKNKPRTFnZmiUfciyV.jpg\n",
              "2  15602  ...  /6ksm1sjKMFLbO7UY2i6G1ju9SML.jpg\n",
              "3  31357  ...  /16XOMpEaLWkrcPqSQqhTmeJuqQl.jpg\n",
              "4  11862  ...  /e64sOI48hQXyru7naBFyssKFxVd.jpg\n",
              "\n",
              "[5 rows x 21 columns]"
            ]
          },
          "metadata": {
            "tags": []
          },
          "execution_count": 69
        }
      ]
    },
    {
      "cell_type": "code",
      "metadata": {
        "id": "K_pDn-iF02Iv",
        "colab_type": "code",
        "colab": {
          "base_uri": "https://localhost:8080/",
          "height": 297
        },
        "outputId": "32df9b1b-9085-47f8-fca3-94f89c1703a8"
      },
      "source": [
        "# Interesting problem w/ genres\n",
        "# There's multiple features in one column (separated by commas)\n",
        "# I wonder how many unique features we would have if we seperated them\n",
        "# into a list\n",
        "# Same thing with Cast\n",
        "\n",
        "movies.describe()"
      ],
      "execution_count": 70,
      "outputs": [
        {
          "output_type": "execute_result",
          "data": {
            "text/html": [
              "<div>\n",
              "<style scoped>\n",
              "    .dataframe tbody tr th:only-of-type {\n",
              "        vertical-align: middle;\n",
              "    }\n",
              "\n",
              "    .dataframe tbody tr th {\n",
              "        vertical-align: top;\n",
              "    }\n",
              "\n",
              "    .dataframe thead th {\n",
              "        text-align: right;\n",
              "    }\n",
              "</style>\n",
              "<table border=\"1\" class=\"dataframe\">\n",
              "  <thead>\n",
              "    <tr style=\"text-align: right;\">\n",
              "      <th></th>\n",
              "      <th>id</th>\n",
              "      <th>runtime</th>\n",
              "      <th>revenue</th>\n",
              "      <th>budget</th>\n",
              "      <th>popularity</th>\n",
              "      <th>average_vote</th>\n",
              "      <th>num_votes</th>\n",
              "    </tr>\n",
              "  </thead>\n",
              "  <tbody>\n",
              "    <tr>\n",
              "      <th>count</th>\n",
              "      <td>46628.000000</td>\n",
              "      <td>46360.000000</td>\n",
              "      <td>4.662400e+04</td>\n",
              "      <td>4.662800e+04</td>\n",
              "      <td>46624.000000</td>\n",
              "      <td>46624.000000</td>\n",
              "      <td>46624.000000</td>\n",
              "    </tr>\n",
              "    <tr>\n",
              "      <th>mean</th>\n",
              "      <td>109678.820837</td>\n",
              "      <td>94.086885</td>\n",
              "      <td>1.102765e+07</td>\n",
              "      <td>4.163636e+06</td>\n",
              "      <td>2.894411</td>\n",
              "      <td>5.611728</td>\n",
              "      <td>108.169719</td>\n",
              "    </tr>\n",
              "    <tr>\n",
              "      <th>std</th>\n",
              "      <td>112908.126984</td>\n",
              "      <td>38.454015</td>\n",
              "      <td>6.380526e+07</td>\n",
              "      <td>1.727426e+07</td>\n",
              "      <td>5.950483</td>\n",
              "      <td>1.932157</td>\n",
              "      <td>486.429314</td>\n",
              "    </tr>\n",
              "    <tr>\n",
              "      <th>min</th>\n",
              "      <td>2.000000</td>\n",
              "      <td>0.000000</td>\n",
              "      <td>0.000000e+00</td>\n",
              "      <td>0.000000e+00</td>\n",
              "      <td>0.000000</td>\n",
              "      <td>0.000000</td>\n",
              "      <td>0.000000</td>\n",
              "    </tr>\n",
              "    <tr>\n",
              "      <th>25%</th>\n",
              "      <td>26760.250000</td>\n",
              "      <td>85.000000</td>\n",
              "      <td>0.000000e+00</td>\n",
              "      <td>0.000000e+00</td>\n",
              "      <td>0.382721</td>\n",
              "      <td>5.000000</td>\n",
              "      <td>3.000000</td>\n",
              "    </tr>\n",
              "    <tr>\n",
              "      <th>50%</th>\n",
              "      <td>61299.000000</td>\n",
              "      <td>95.000000</td>\n",
              "      <td>0.000000e+00</td>\n",
              "      <td>0.000000e+00</td>\n",
              "      <td>1.115187</td>\n",
              "      <td>6.000000</td>\n",
              "      <td>10.000000</td>\n",
              "    </tr>\n",
              "    <tr>\n",
              "      <th>75%</th>\n",
              "      <td>159624.000000</td>\n",
              "      <td>107.000000</td>\n",
              "      <td>0.000000e+00</td>\n",
              "      <td>0.000000e+00</td>\n",
              "      <td>3.610563</td>\n",
              "      <td>6.800000</td>\n",
              "      <td>34.000000</td>\n",
              "    </tr>\n",
              "    <tr>\n",
              "      <th>max</th>\n",
              "      <td>469172.000000</td>\n",
              "      <td>1256.000000</td>\n",
              "      <td>2.787965e+09</td>\n",
              "      <td>3.800000e+08</td>\n",
              "      <td>547.488298</td>\n",
              "      <td>10.000000</td>\n",
              "      <td>14075.000000</td>\n",
              "    </tr>\n",
              "  </tbody>\n",
              "</table>\n",
              "</div>"
            ],
            "text/plain": [
              "                  id       runtime  ...  average_vote     num_votes\n",
              "count   46628.000000  46360.000000  ...  46624.000000  46624.000000\n",
              "mean   109678.820837     94.086885  ...      5.611728    108.169719\n",
              "std    112908.126984     38.454015  ...      1.932157    486.429314\n",
              "min         2.000000      0.000000  ...      0.000000      0.000000\n",
              "25%     26760.250000     85.000000  ...      5.000000      3.000000\n",
              "50%     61299.000000     95.000000  ...      6.000000     10.000000\n",
              "75%    159624.000000    107.000000  ...      6.800000     34.000000\n",
              "max    469172.000000   1256.000000  ...     10.000000  14075.000000\n",
              "\n",
              "[8 rows x 7 columns]"
            ]
          },
          "metadata": {
            "tags": []
          },
          "execution_count": 70
        }
      ]
    },
    {
      "cell_type": "code",
      "metadata": {
        "id": "rg2urSmH1Jpi",
        "colab_type": "code",
        "colab": {
          "base_uri": "https://localhost:8080/",
          "height": 512
        },
        "outputId": "4738e1c2-4760-4084-f926-3cd8e811a14c"
      },
      "source": [
        "movies.describe(include='all')"
      ],
      "execution_count": 71,
      "outputs": [
        {
          "output_type": "execute_result",
          "data": {
            "text/html": [
              "<div>\n",
              "<style scoped>\n",
              "    .dataframe tbody tr th:only-of-type {\n",
              "        vertical-align: middle;\n",
              "    }\n",
              "\n",
              "    .dataframe tbody tr th {\n",
              "        vertical-align: top;\n",
              "    }\n",
              "\n",
              "    .dataframe thead th {\n",
              "        text-align: right;\n",
              "    }\n",
              "</style>\n",
              "<table border=\"1\" class=\"dataframe\">\n",
              "  <thead>\n",
              "    <tr style=\"text-align: right;\">\n",
              "      <th></th>\n",
              "      <th>id</th>\n",
              "      <th>title</th>\n",
              "      <th>tagline</th>\n",
              "      <th>description</th>\n",
              "      <th>genres</th>\n",
              "      <th>keywords</th>\n",
              "      <th>date</th>\n",
              "      <th>collection</th>\n",
              "      <th>runtime</th>\n",
              "      <th>revenue</th>\n",
              "      <th>budget</th>\n",
              "      <th>director</th>\n",
              "      <th>cast</th>\n",
              "      <th>production_companies</th>\n",
              "      <th>production_countries</th>\n",
              "      <th>popularity</th>\n",
              "      <th>average_vote</th>\n",
              "      <th>num_votes</th>\n",
              "      <th>language</th>\n",
              "      <th>imdb_id</th>\n",
              "      <th>poster_url</th>\n",
              "    </tr>\n",
              "  </thead>\n",
              "  <tbody>\n",
              "    <tr>\n",
              "      <th>count</th>\n",
              "      <td>46628.000000</td>\n",
              "      <td>46624</td>\n",
              "      <td>20783</td>\n",
              "      <td>45633</td>\n",
              "      <td>44104</td>\n",
              "      <td>31739</td>\n",
              "      <td>46540</td>\n",
              "      <td>4574</td>\n",
              "      <td>46360.000000</td>\n",
              "      <td>4.662400e+04</td>\n",
              "      <td>4.662800e+04</td>\n",
              "      <td>45711</td>\n",
              "      <td>44137</td>\n",
              "      <td>34346</td>\n",
              "      <td>40132</td>\n",
              "      <td>46624.000000</td>\n",
              "      <td>46624.000000</td>\n",
              "      <td>46624.000000</td>\n",
              "      <td>46617</td>\n",
              "      <td>46611</td>\n",
              "      <td>46229</td>\n",
              "    </tr>\n",
              "    <tr>\n",
              "      <th>unique</th>\n",
              "      <td>NaN</td>\n",
              "      <td>42276</td>\n",
              "      <td>20283</td>\n",
              "      <td>44305</td>\n",
              "      <td>4065</td>\n",
              "      <td>25988</td>\n",
              "      <td>17333</td>\n",
              "      <td>1695</td>\n",
              "      <td>NaN</td>\n",
              "      <td>NaN</td>\n",
              "      <td>NaN</td>\n",
              "      <td>17572</td>\n",
              "      <td>42677</td>\n",
              "      <td>22670</td>\n",
              "      <td>2389</td>\n",
              "      <td>NaN</td>\n",
              "      <td>NaN</td>\n",
              "      <td>NaN</td>\n",
              "      <td>89</td>\n",
              "      <td>45415</td>\n",
              "      <td>45020</td>\n",
              "    </tr>\n",
              "    <tr>\n",
              "      <th>top</th>\n",
              "      <td>NaN</td>\n",
              "      <td>Blackout</td>\n",
              "      <td>Which one is the first to return - memory or t...</td>\n",
              "      <td>No overview found.</td>\n",
              "      <td>drama</td>\n",
              "      <td>woman director</td>\n",
              "      <td>2008-01-01</td>\n",
              "      <td>Pokémon Collection</td>\n",
              "      <td>NaN</td>\n",
              "      <td>NaN</td>\n",
              "      <td>NaN</td>\n",
              "      <td>John Ford</td>\n",
              "      <td>Petteri Summanen, Ismo Kallio, Eppu Salminen, ...</td>\n",
              "      <td>Metro-Goldwyn-Mayer (MGM)</td>\n",
              "      <td>United States of America</td>\n",
              "      <td>NaN</td>\n",
              "      <td>NaN</td>\n",
              "      <td>NaN</td>\n",
              "      <td>en</td>\n",
              "      <td>tt1180333</td>\n",
              "      <td>/8VSZ9coCzxOCW2wE2Qene1H1fKO.jpg</td>\n",
              "    </tr>\n",
              "    <tr>\n",
              "      <th>freq</th>\n",
              "      <td>NaN</td>\n",
              "      <td>31</td>\n",
              "      <td>27</td>\n",
              "      <td>136</td>\n",
              "      <td>5148</td>\n",
              "      <td>1329</td>\n",
              "      <td>138</td>\n",
              "      <td>34</td>\n",
              "      <td>NaN</td>\n",
              "      <td>NaN</td>\n",
              "      <td>NaN</td>\n",
              "      <td>67</td>\n",
              "      <td>27</td>\n",
              "      <td>746</td>\n",
              "      <td>18126</td>\n",
              "      <td>NaN</td>\n",
              "      <td>NaN</td>\n",
              "      <td>NaN</td>\n",
              "      <td>32937</td>\n",
              "      <td>27</td>\n",
              "      <td>27</td>\n",
              "    </tr>\n",
              "    <tr>\n",
              "      <th>mean</th>\n",
              "      <td>109678.820837</td>\n",
              "      <td>NaN</td>\n",
              "      <td>NaN</td>\n",
              "      <td>NaN</td>\n",
              "      <td>NaN</td>\n",
              "      <td>NaN</td>\n",
              "      <td>NaN</td>\n",
              "      <td>NaN</td>\n",
              "      <td>94.086885</td>\n",
              "      <td>1.102765e+07</td>\n",
              "      <td>4.163636e+06</td>\n",
              "      <td>NaN</td>\n",
              "      <td>NaN</td>\n",
              "      <td>NaN</td>\n",
              "      <td>NaN</td>\n",
              "      <td>2.894411</td>\n",
              "      <td>5.611728</td>\n",
              "      <td>108.169719</td>\n",
              "      <td>NaN</td>\n",
              "      <td>NaN</td>\n",
              "      <td>NaN</td>\n",
              "    </tr>\n",
              "    <tr>\n",
              "      <th>std</th>\n",
              "      <td>112908.126984</td>\n",
              "      <td>NaN</td>\n",
              "      <td>NaN</td>\n",
              "      <td>NaN</td>\n",
              "      <td>NaN</td>\n",
              "      <td>NaN</td>\n",
              "      <td>NaN</td>\n",
              "      <td>NaN</td>\n",
              "      <td>38.454015</td>\n",
              "      <td>6.380526e+07</td>\n",
              "      <td>1.727426e+07</td>\n",
              "      <td>NaN</td>\n",
              "      <td>NaN</td>\n",
              "      <td>NaN</td>\n",
              "      <td>NaN</td>\n",
              "      <td>5.950483</td>\n",
              "      <td>1.932157</td>\n",
              "      <td>486.429314</td>\n",
              "      <td>NaN</td>\n",
              "      <td>NaN</td>\n",
              "      <td>NaN</td>\n",
              "    </tr>\n",
              "    <tr>\n",
              "      <th>min</th>\n",
              "      <td>2.000000</td>\n",
              "      <td>NaN</td>\n",
              "      <td>NaN</td>\n",
              "      <td>NaN</td>\n",
              "      <td>NaN</td>\n",
              "      <td>NaN</td>\n",
              "      <td>NaN</td>\n",
              "      <td>NaN</td>\n",
              "      <td>0.000000</td>\n",
              "      <td>0.000000e+00</td>\n",
              "      <td>0.000000e+00</td>\n",
              "      <td>NaN</td>\n",
              "      <td>NaN</td>\n",
              "      <td>NaN</td>\n",
              "      <td>NaN</td>\n",
              "      <td>0.000000</td>\n",
              "      <td>0.000000</td>\n",
              "      <td>0.000000</td>\n",
              "      <td>NaN</td>\n",
              "      <td>NaN</td>\n",
              "      <td>NaN</td>\n",
              "    </tr>\n",
              "    <tr>\n",
              "      <th>25%</th>\n",
              "      <td>26760.250000</td>\n",
              "      <td>NaN</td>\n",
              "      <td>NaN</td>\n",
              "      <td>NaN</td>\n",
              "      <td>NaN</td>\n",
              "      <td>NaN</td>\n",
              "      <td>NaN</td>\n",
              "      <td>NaN</td>\n",
              "      <td>85.000000</td>\n",
              "      <td>0.000000e+00</td>\n",
              "      <td>0.000000e+00</td>\n",
              "      <td>NaN</td>\n",
              "      <td>NaN</td>\n",
              "      <td>NaN</td>\n",
              "      <td>NaN</td>\n",
              "      <td>0.382721</td>\n",
              "      <td>5.000000</td>\n",
              "      <td>3.000000</td>\n",
              "      <td>NaN</td>\n",
              "      <td>NaN</td>\n",
              "      <td>NaN</td>\n",
              "    </tr>\n",
              "    <tr>\n",
              "      <th>50%</th>\n",
              "      <td>61299.000000</td>\n",
              "      <td>NaN</td>\n",
              "      <td>NaN</td>\n",
              "      <td>NaN</td>\n",
              "      <td>NaN</td>\n",
              "      <td>NaN</td>\n",
              "      <td>NaN</td>\n",
              "      <td>NaN</td>\n",
              "      <td>95.000000</td>\n",
              "      <td>0.000000e+00</td>\n",
              "      <td>0.000000e+00</td>\n",
              "      <td>NaN</td>\n",
              "      <td>NaN</td>\n",
              "      <td>NaN</td>\n",
              "      <td>NaN</td>\n",
              "      <td>1.115187</td>\n",
              "      <td>6.000000</td>\n",
              "      <td>10.000000</td>\n",
              "      <td>NaN</td>\n",
              "      <td>NaN</td>\n",
              "      <td>NaN</td>\n",
              "    </tr>\n",
              "    <tr>\n",
              "      <th>75%</th>\n",
              "      <td>159624.000000</td>\n",
              "      <td>NaN</td>\n",
              "      <td>NaN</td>\n",
              "      <td>NaN</td>\n",
              "      <td>NaN</td>\n",
              "      <td>NaN</td>\n",
              "      <td>NaN</td>\n",
              "      <td>NaN</td>\n",
              "      <td>107.000000</td>\n",
              "      <td>0.000000e+00</td>\n",
              "      <td>0.000000e+00</td>\n",
              "      <td>NaN</td>\n",
              "      <td>NaN</td>\n",
              "      <td>NaN</td>\n",
              "      <td>NaN</td>\n",
              "      <td>3.610563</td>\n",
              "      <td>6.800000</td>\n",
              "      <td>34.000000</td>\n",
              "      <td>NaN</td>\n",
              "      <td>NaN</td>\n",
              "      <td>NaN</td>\n",
              "    </tr>\n",
              "    <tr>\n",
              "      <th>max</th>\n",
              "      <td>469172.000000</td>\n",
              "      <td>NaN</td>\n",
              "      <td>NaN</td>\n",
              "      <td>NaN</td>\n",
              "      <td>NaN</td>\n",
              "      <td>NaN</td>\n",
              "      <td>NaN</td>\n",
              "      <td>NaN</td>\n",
              "      <td>1256.000000</td>\n",
              "      <td>2.787965e+09</td>\n",
              "      <td>3.800000e+08</td>\n",
              "      <td>NaN</td>\n",
              "      <td>NaN</td>\n",
              "      <td>NaN</td>\n",
              "      <td>NaN</td>\n",
              "      <td>547.488298</td>\n",
              "      <td>10.000000</td>\n",
              "      <td>14075.000000</td>\n",
              "      <td>NaN</td>\n",
              "      <td>NaN</td>\n",
              "      <td>NaN</td>\n",
              "    </tr>\n",
              "  </tbody>\n",
              "</table>\n",
              "</div>"
            ],
            "text/plain": [
              "                   id     title  ...    imdb_id                        poster_url\n",
              "count    46628.000000     46624  ...      46611                             46229\n",
              "unique            NaN     42276  ...      45415                             45020\n",
              "top               NaN  Blackout  ...  tt1180333  /8VSZ9coCzxOCW2wE2Qene1H1fKO.jpg\n",
              "freq              NaN        31  ...         27                                27\n",
              "mean    109678.820837       NaN  ...        NaN                               NaN\n",
              "std     112908.126984       NaN  ...        NaN                               NaN\n",
              "min          2.000000       NaN  ...        NaN                               NaN\n",
              "25%      26760.250000       NaN  ...        NaN                               NaN\n",
              "50%      61299.000000       NaN  ...        NaN                               NaN\n",
              "75%     159624.000000       NaN  ...        NaN                               NaN\n",
              "max     469172.000000       NaN  ...        NaN                               NaN\n",
              "\n",
              "[11 rows x 21 columns]"
            ]
          },
          "metadata": {
            "tags": []
          },
          "execution_count": 71
        }
      ]
    },
    {
      "cell_type": "code",
      "metadata": {
        "id": "qSVIsYMD1Z1O",
        "colab_type": "code",
        "colab": {
          "base_uri": "https://localhost:8080/",
          "height": 34
        },
        "outputId": "87272f32-063f-4077-862b-05b954ee44ec"
      },
      "source": [
        "# I suspect no description != Null\n",
        "# Instead no description = \"No overview found.\"\n",
        "movies.shape"
      ],
      "execution_count": 72,
      "outputs": [
        {
          "output_type": "execute_result",
          "data": {
            "text/plain": [
              "(46628, 21)"
            ]
          },
          "metadata": {
            "tags": []
          },
          "execution_count": 72
        }
      ]
    },
    {
      "cell_type": "code",
      "metadata": {
        "id": "1-8gpBoS18Yp",
        "colab_type": "code",
        "colab": {
          "base_uri": "https://localhost:8080/",
          "height": 391
        },
        "outputId": "63150bcf-8f61-46ca-8ebf-a692e5ab37d9"
      },
      "source": [
        "# 46628 rows, 21 columns\n",
        "\n",
        "# Nulls per column\n",
        "movies.isnull().sum()"
      ],
      "execution_count": 73,
      "outputs": [
        {
          "output_type": "execute_result",
          "data": {
            "text/plain": [
              "id                          0\n",
              "title                       4\n",
              "tagline                 25845\n",
              "description               995\n",
              "genres                   2524\n",
              "keywords                14889\n",
              "date                       88\n",
              "collection              42054\n",
              "runtime                   268\n",
              "revenue                     4\n",
              "budget                      0\n",
              "director                  917\n",
              "cast                     2491\n",
              "production_companies    12282\n",
              "production_countries     6496\n",
              "popularity                  4\n",
              "average_vote                4\n",
              "num_votes                   4\n",
              "language                   11\n",
              "imdb_id                    17\n",
              "poster_url                399\n",
              "dtype: int64"
            ]
          },
          "metadata": {
            "tags": []
          },
          "execution_count": 73
        }
      ]
    },
    {
      "cell_type": "code",
      "metadata": {
        "id": "5PdEcU3n2TKx",
        "colab_type": "code",
        "colab": {
          "base_uri": "https://localhost:8080/",
          "height": 374
        },
        "outputId": "78da3389-6f04-4bc7-bb04-b53abff4c6d9"
      },
      "source": [
        "# Most movies do not belong to a collection, and many missing tagline/keywords\n",
        "# Very few movies are missing popularity / voting statistics\n",
        "\n",
        "# Zeroes per column\n",
        "for col in movies.columns:\n",
        "  zero_num = movies[movies[col] == 0].shape[0]\n",
        "  print(col, zero_num)"
      ],
      "execution_count": 74,
      "outputs": [
        {
          "output_type": "stream",
          "text": [
            "id 0\n",
            "title 0\n",
            "tagline 0\n",
            "description 0\n",
            "genres 0\n",
            "keywords 0\n",
            "date 0\n",
            "collection 0\n",
            "runtime 1627\n",
            "revenue 39087\n",
            "budget 37575\n",
            "director 0\n",
            "cast 0\n",
            "production_companies 0\n",
            "production_countries 0\n",
            "popularity 67\n",
            "average_vote 3121\n",
            "num_votes 3021\n",
            "language 0\n",
            "imdb_id 0\n",
            "poster_url 0\n"
          ],
          "name": "stdout"
        }
      ]
    },
    {
      "cell_type": "code",
      "metadata": {
        "id": "KW-DbMkf50_g",
        "colab_type": "code",
        "colab": {}
      },
      "source": [
        "# Lots of zeroes in Revenue & Budget\n",
        "# Is this due to data entry, or did these movies really have no revenue/budget?\n",
        "\n",
        "# Could add Proft col (Revenue - Budget)\n",
        "# Wouldn't be useful for predicting either of those things due to contamination\n",
        "movies['profit'] = movies['revenue'] - movies['budget']"
      ],
      "execution_count": 75,
      "outputs": []
    },
    {
      "cell_type": "markdown",
      "metadata": {
        "id": "WD4qYe8eODt0",
        "colab_type": "text"
      },
      "source": [
        "# Quick Visualizations"
      ]
    },
    {
      "cell_type": "code",
      "metadata": {
        "id": "sp2JOMhUOKAt",
        "colab_type": "code",
        "colab": {
          "base_uri": "https://localhost:8080/",
          "height": 1000
        },
        "outputId": "17a760e4-b264-44d0-8e4f-d14eb58078bc"
      },
      "source": [
        "# Distribution Plots for some of the numerical features\n",
        "# slightly normalized to remove extremely high outliers\n",
        "# source: https://nextjournal.com/schmudde/how-to-remove-outliers-in-data\n",
        "\n",
        "\n",
        "distplots = ['runtime','popularity','average_vote','num_votes']\n",
        "for col in distplots:\n",
        "  x = movies[col]\n",
        "  data = x[x.between(x.quantile(.00), x.quantile(.85))]\n",
        "  sns.distplot(data, color = 'g')\n",
        "  # can't get plt.title() to work for some reason\n",
        "  plt.show()"
      ],
      "execution_count": 76,
      "outputs": [
        {
          "output_type": "display_data",
          "data": {
            "image/png": "[encoded data removed]",
            "text/plain": [
              "<Figure size 432x288 with 1 Axes>"
            ]
          },
          "metadata": {
            "tags": [],
            "needs_background": "light"
          }
        },
        {
          "output_type": "display_data",
          "data": {
            "image/png": "[encoded data removed]",
            "text/plain": [
              "<Figure size 432x288 with 1 Axes>"
            ]
          },
          "metadata": {
            "tags": [],
            "needs_background": "light"
          }
        },
        {
          "output_type": "display_data",
          "data": {
            "image/png": "[encoded data removed]",
            "text/plain": [
              "<Figure size 432x288 with 1 Axes>"
            ]
          },
          "metadata": {
            "tags": [],
            "needs_background": "light"
          }
        },
        {
          "output_type": "display_data",
          "data": {
            "image/png": "[encoded data removed]",
            "text/plain": [
              "<Figure size 432x288 with 1 Axes>"
            ]
          },
          "metadata": {
            "tags": [],
            "needs_background": "light"
          }
        }
      ]
    },
    {
      "cell_type": "code",
      "metadata": {
        "id": "1kCyl5yCQ0UK",
        "colab_type": "code",
        "colab": {
          "base_uri": "https://localhost:8080/",
          "height": 836
        },
        "outputId": "d23db2d7-ec8b-4394-b568-ab4b95c99fe3"
      },
      "source": [
        "# Graphs for profit, revenue, and budget are messed up because of the zeroes\n",
        "distplots = ['revenue', 'budget', 'profit']\n",
        "for col in distplots:\n",
        "  x = movies[col]\n",
        "  # remove zeroes\n",
        "  x = x[x != 0]\n",
        "  data = x[x.between(x.quantile(.00), x.quantile(.85))]\n",
        "  sns.distplot(data, color = 'g')\n",
        "  plt.show()"
      ],
      "execution_count": 77,
      "outputs": [
        {
          "output_type": "display_data",
          "data": {
            "image/png": "[encoded data removed]",
            "text/plain": [
              "<Figure size 432x288 with 1 Axes>"
            ]
          },
          "metadata": {
            "tags": [],
            "needs_background": "light"
          }
        },
        {
          "output_type": "display_data",
          "data": {
            "image/png": "[encoded data removed]",
            "text/plain": [
              "<Figure size 432x288 with 1 Axes>"
            ]
          },
          "metadata": {
            "tags": [],
            "needs_background": "light"
          }
        },
        {
          "output_type": "display_data",
          "data": {
            "image/png": "[encoded data removed]",
            "text/plain": [
              "<Figure size 432x288 with 1 Axes>"
            ]
          },
          "metadata": {
            "tags": [],
            "needs_background": "light"
          }
        }
      ]
    },
    {
      "cell_type": "code",
      "metadata": {
        "id": "HejwMMSCVRmj",
        "colab_type": "code",
        "colab": {
          "base_uri": "https://localhost:8080/",
          "height": 295
        },
        "outputId": "229282c9-c843-467b-f142-f2f3ff1ac496"
      },
      "source": [
        "#how has runtime changed over time\n",
        "\n",
        "y = movies['runtime'] #46628\n",
        "x = pd.to_datetime(movies['date']) #46628\n",
        "\n",
        "plt.plot_date(pd.to_datetime(movies['date']),movies['runtime'])\n",
        "plt.title('Time vs. Movie Runtime')\n",
        "plt.grid(True)\n",
        "plt.xlabel(\"Date\")\n",
        "plt.ylabel('Runtime')\n",
        "plt.show()"
      ],
      "execution_count": 82,
      "outputs": [
        {
          "output_type": "display_data",
          "data": {
            "image/png": "[encoded data removed]",
            "text/plain": [
              "<Figure size 432x288 with 1 Axes>"
            ]
          },
          "metadata": {
            "tags": [],
            "needs_background": "light"
          }
        }
      ]
    }
  ]
}