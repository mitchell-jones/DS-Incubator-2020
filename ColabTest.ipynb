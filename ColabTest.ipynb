{
 "cells": [
  {
   "cell_type": "markdown",
   "metadata": {
    "id": "view-in-github",
    "colab_type": "text"
   },
   "source": [
    "<a href=\"https://colab.research.google.com/github/mitchell-jones/DS-Incubator-2020/blob/master/ColabTest.ipynb\" target=\"_parent\"><img src=\"https://colab.research.google.com/assets/colab-badge.svg\" alt=\"Open In Colab\"/></a>"
   ]
  },
  {
   "cell_type": "code",
   "execution_count": null,
   "metadata": {
    "id": "1vaAmkH5WArb",
    "colab_type": "code",
    "colab": {}
   },
   "outputs": [],
   "source": [
    "# Example notebook for testing Google Colaboratory Sharing"
   ]
  },
  {
   "cell_type": "code",
   "execution_count": null,
   "metadata": {},
   "outputs": [],
   "source": []
  },
  {
   "cell_type": "code",
   "execution_count": 0,
   "metadata": {
    "id": "V489PNy1WNww",
    "colab_type": "code",
    "colab": {}
   },
   "outputs": [],
   "source": [
    "import pandas as pd"
   ]
  },
  {
   "cell_type": "code",
   "execution_count": null,
   "metadata": {
    "id": "4uFIEYcmWP6p",
    "colab_type": "code",
    "colab": {}
   },
   "outputs": [],
   "source": [
    "test = 'This is a test update to the github'\n",
    "print(test)"
   ]
  }
 ],
 "metadata": {
  "colab": {
   "name": "ColabTest.ipynb",
   "provenance": [],
   "authorship_tag": "ABX9TyOurRfJzOacS2DF7sxhAAXo",
   "include_colab_link": true
  },
  "kernelspec": {
   "name": "python3",
   "display_name": "Python 3"
  }
 },
 "nbformat": 4,
 "nbformat_minor": 0
}
