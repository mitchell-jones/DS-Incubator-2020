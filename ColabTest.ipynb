{
 "cells": [
  {
   "cell_type": "markdown",
   "metadata": {
    "id": "view-in-github",
    "colab_type": "text"
   },
   "source": [
    "# This is our Exploratory Analysis Notebook\n",
    "Here's a link to open it in colab:\n",
    "<a href=\"https://colab.research.google.com/github/mitchell-jones/DS-Incubator-2020/blob/master/ColabTest.ipynb\" target=\"_parent\"><img src=\"https://colab.research.google.com/assets/colab-badge.svg\" alt=\"Open In Colab\"/></a>"
   ]
  },
  {
   "cell_type": "code",
   "execution_count": 1,
   "metadata": {
    "id": "1vaAmkH5WArb",
    "colab_type": "code",
    "colab": {},
    "pycharm": {
     "name": "#%%\n"
    }
   },
   "outputs": [],
   "source": [
    "# Example notebook for testing Google Colaboratory Sharing"
   ]
  },
  {
   "cell_type": "code",
   "execution_count": 3,
   "outputs": [
    {
     "name": "stdout",
     "output_type": "stream",
     "text": [
      "This is a test update to the github\n"
     ]
    }
   ],
   "source": [
    "test = 'This is a test update to the github'\n",
    "print(test)\n"
   ],
   "metadata": {
    "collapsed": false,
    "pycharm": {
     "name": "#%%\n"
    }
   }
  }
 ],
 "metadata": {
  "colab": {
   "name": "ColabTest.ipynb",
   "provenance": [],
   "authorship_tag": "ABX9TyOurRfJzOacS2DF7sxhAAXo",
   "include_colab_link": true
  },
  "kernelspec": {
   "name": "pycharm-25b6d9c7",
   "language": "python",
   "display_name": "PyCharm (DS-Incubator-2020)"
  }
 },
 "nbformat": 4,
 "nbformat_minor": 0
}