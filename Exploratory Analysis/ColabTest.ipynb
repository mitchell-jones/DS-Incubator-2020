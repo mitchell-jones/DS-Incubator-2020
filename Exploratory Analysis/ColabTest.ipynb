{
  "nbformat": 4,
  "nbformat_minor": 0,
  "metadata": {
    "colab": {
      "name": "ColabTest.ipynb",
      "provenance": [],
      "include_colab_link": true
    },
    "kernelspec": {
      "name": "pycharm-25b6d9c7",
      "language": "python",
      "display_name": "PyCharm (DS-Incubator-2020)"
    }
  },
  "cells": [
    {
      "cell_type": "markdown",
      "metadata": {
        "id": "view-in-github",
        "colab_type": "text"
      },
      "source": [
        "<a href=\"https://colab.research.google.com/github/mitchell-jones/DS-Incubator-2020/blob/colab-changes/ColabTest.ipynb\" target=\"_parent\"><img src=\"https://colab.research.google.com/assets/colab-badge.svg\" alt=\"Open In Colab\"/></a>"
      ]
    },
    {
      "cell_type": "code",
      "metadata": {
        "id": "1vaAmkH5WArb",
        "colab_type": "code",
        "pycharm": {
          "name": "#%%\n"
        },
        "colab": {}
      },
      "source": [
        "# Example notebook for testing Google Colaboratory Sharing"
      ],
      "execution_count": 0,
      "outputs": []
    },
    {
      "cell_type": "code",
      "metadata": {
        "pycharm": {
          "name": "#%%\n"
        },
        "id": "kmgWmvvmaV1n",
        "colab_type": "code",
        "colab": {
          "base_uri": "https://localhost:8080/",
          "height": 34
        },
        "outputId": "66d2cdf1-b4c9-4649-9592-a5301411ab0a"
      },
      "source": [
        "test = 'This is a test update to the github'\n",
        "print(test)\n"
      ],
      "execution_count": 1,
      "outputs": [
        {
          "output_type": "stream",
          "text": [
            "This is a test update to the github\n"
          ],
          "name": "stdout"
        }
      ]
    },
    {
      "cell_type": "code",
      "metadata": {
        "id": "pwshXYMwaX7U",
        "colab_type": "code",
        "colab": {
          "base_uri": "https://localhost:8080/",
          "height": 34
        },
        "outputId": "3d3e0a82-a040-4d30-8502-50eaefd3132e"
      },
      "source": [
        "\"I've been having trouble using PyCharm for Jupyter Notebooks, so this is a test to see how Google Colab does\""
      ],
      "execution_count": 2,
      "outputs": [
        {
          "output_type": "execute_result",
          "data": {
            "text/plain": [
              "\"I've been having trouble using PyCharm for Jupyter Notebooks, so this is a test to see how Google Colab does\""
            ]
          },
          "metadata": {
            "tags": []
          },
          "execution_count": 2
        }
      ]
    },
    {
      "cell_type": "code",
      "metadata": {
        "id": "yBib-Gv_bA-S",
        "colab_type": "code",
        "colab": {}
      },
      "source": [
        "\"Now, I'll create a new branch from Colab to see if I can then merge it with master\""
      ],
      "execution_count": 0,
      "outputs": []
    }
  ]
}
