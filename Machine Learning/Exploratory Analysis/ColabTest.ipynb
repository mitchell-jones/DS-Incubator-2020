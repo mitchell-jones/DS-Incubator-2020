{
  "nbformat": 4,
  "nbformat_minor": 0,
  "metadata": {
    "colab": {
      "name": "ColabTest.ipynb",
      "provenance": [],
      "include_colab_link": true
    },
    "kernelspec": {
      "name": "pycharm-25b6d9c7",
      "language": "python",
      "display_name": "PyCharm (DS-Incubator-2020)"
    }
  },
  "cells": [
    {
      "cell_type": "markdown",
      "metadata": {
        "id": "view-in-github",
        "colab_type": "text"
      },
      "source": [
        "<a href=\"https://colab.research.google.com/github/mitchell-jones/DS-Incubator-2020/blob/Kyle-%2F-Test/Machine%20Learning/Exploratory%20Analysis/ColabTest.ipynb\" target=\"_parent\"><img src=\"https://colab.research.google.com/assets/colab-badge.svg\" alt=\"Open In Colab\"/></a>"
      ]
    },
    {
      "cell_type": "code",
      "metadata": {
        "id": "1vaAmkH5WArb",
        "colab_type": "code",
        "pycharm": {
          "name": "#%%\n"
        },
        "colab": {}
      },
      "source": [
        "# Beginning Exploratory Analysis"
      ],
      "execution_count": 0,
      "outputs": []
    },
    {
      "cell_type": "code",
      "metadata": {
        "id": "3a7wVNyk0cVp",
        "colab_type": "code",
        "colab": {}
      },
      "source": [
        "# Import Packages\n",
        "import pandas as pd\n",
        "import seaborn as sns\n",
        "import matplotlib as plt"
      ],
      "execution_count": 0,
      "outputs": []
    },
    {
      "cell_type": "code",
      "metadata": {
        "id": "gWKyqrlm0rPd",
        "colab_type": "code",
        "colab": {}
      },
      "source": [
        "# Read movie data to dataframe\n",
        "movies = pd.read_csv('movies.csv')"
      ],
      "execution_count": 0,
      "outputs": []
    },
    {
      "cell_type": "code",
      "metadata": {
        "id": "mF5NQhW300r_",
        "colab_type": "code",
        "colab": {}
      },
      "source": [
        "movies.head()"
      ],
      "execution_count": 0,
      "outputs": []
    },
    {
      "cell_type": "code",
      "metadata": {
        "id": "K_pDn-iF02Iv",
        "colab_type": "code",
        "colab": {}
      },
      "source": [
        "movies.describe()"
      ],
      "execution_count": 0,
      "outputs": []
    },
    {
      "cell_type": "code",
      "metadata": {
        "id": "rg2urSmH1Jpi",
        "colab_type": "code",
        "colab": {}
      },
      "source": [
        "movies.describe(include='all')"
      ],
      "execution_count": 0,
      "outputs": []
    },
    {
      "cell_type": "code",
      "metadata": {
        "id": "qSVIsYMD1Z1O",
        "colab_type": "code",
        "outputId": "c3d3f554-b928-4bd9-abbc-2a9071b2ce55",
        "colab": {
          "base_uri": "https://localhost:8080/",
          "height": 34
        }
      },
      "source": [
        "movies.shape\n",
        "# 46628 rows, 21 columns"
      ],
      "execution_count": 0,
      "outputs": [
        {
          "output_type": "execute_result",
          "data": {
            "text/plain": [
              "(46628, 21)"
            ]
          },
          "metadata": {
            "tags": []
          },
          "execution_count": 15
        }
      ]
    },
    {
      "cell_type": "code",
      "metadata": {
        "id": "1-8gpBoS18Yp",
        "colab_type": "code",
        "outputId": "8c5875ab-c998-4a94-a735-673b57c9daba",
        "colab": {
          "base_uri": "https://localhost:8080/",
          "height": 391
        }
      },
      "source": [
        "# how many nulls per column\n",
        "\n",
        "print('Nulls per Column')\n",
        "for i in movies.columns:\n",
        "  null_num = movies[i].isnull().sum()\n",
        "  print('%s column has %s' % (i, null_num))"
      ],
      "execution_count": 0,
      "outputs": [
        {
          "output_type": "stream",
          "text": [
            "Nulls per Column\n",
            "id column has 0\n",
            "title column has 4\n",
            "tagline column has 25845\n",
            "description column has 995\n",
            "genres column has 2524\n",
            "keywords column has 14889\n",
            "date column has 88\n",
            "collection column has 42054\n",
            "runtime column has 268\n",
            "revenue column has 4\n",
            "budget column has 0\n",
            "director column has 917\n",
            "cast column has 2491\n",
            "production_companies column has 12282\n",
            "production_countries column has 6496\n",
            "popularity column has 4\n",
            "average_vote column has 4\n",
            "num_votes column has 4\n",
            "language column has 11\n",
            "imdb_id column has 17\n",
            "poster_url column has 399\n"
          ],
          "name": "stdout"
        }
      ]
    },
    {
      "cell_type": "code",
      "metadata": {
        "id": "5PdEcU3n2TKx",
        "colab_type": "code",
        "outputId": "b68eae6c-7f35-468b-e3da-bd85472728dd",
        "colab": {
          "base_uri": "https://localhost:8080/",
          "height": 391
        }
      },
      "source": [
        "# how many zeroes per column\n",
        "\n",
        "print('Zeroes Per Column')\n",
        "for i in movies.columns:\n",
        "  zero_num = movies[movies[i] == 0].shape[0]\n",
        "  print('%s zeroes in %s' % (zero_num, i))\n",
        "\n",
        "# Lots of Zeroes in Revenue & Budget"
      ],
      "execution_count": 0,
      "outputs": [
        {
          "output_type": "stream",
          "text": [
            "Zeroes Per Column\n",
            "0 zeroes in id\n",
            "0 zeroes in title\n",
            "0 zeroes in tagline\n",
            "0 zeroes in description\n",
            "0 zeroes in genres\n",
            "0 zeroes in keywords\n",
            "0 zeroes in date\n",
            "0 zeroes in collection\n",
            "1627 zeroes in runtime\n",
            "39087 zeroes in revenue\n",
            "37575 zeroes in budget\n",
            "0 zeroes in director\n",
            "0 zeroes in cast\n",
            "0 zeroes in production_companies\n",
            "0 zeroes in production_countries\n",
            "67 zeroes in popularity\n",
            "3121 zeroes in average_vote\n",
            "3021 zeroes in num_votes\n",
            "0 zeroes in language\n",
            "0 zeroes in imdb_id\n",
            "0 zeroes in poster_url\n"
          ],
          "name": "stdout"
        }
      ]
    },
    {
      "cell_type": "code",
      "metadata": {
        "id": "KW-DbMkf50_g",
        "colab_type": "code",
        "colab": {}
      },
      "source": [
        ""
      ],
      "execution_count": 0,
      "outputs": []
    }
  ]
}